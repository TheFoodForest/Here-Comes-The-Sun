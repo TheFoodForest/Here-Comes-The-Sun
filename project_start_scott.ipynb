{
 "cells": [
  {
   "cell_type": "code",
   "execution_count": 1,
   "metadata": {},
   "outputs": [],
   "source": [
    "import pandas as pd \n",
    "import numpy as np\n",
    "import matplotlib.pyplot as plt "
   ]
  },
  {
   "cell_type": "code",
   "execution_count": 2,
   "metadata": {},
   "outputs": [
    {
     "data": {
      "text/html": [
       "<div>\n",
       "<style scoped>\n",
       "    .dataframe tbody tr th:only-of-type {\n",
       "        vertical-align: middle;\n",
       "    }\n",
       "\n",
       "    .dataframe tbody tr th {\n",
       "        vertical-align: top;\n",
       "    }\n",
       "\n",
       "    .dataframe thead th {\n",
       "        text-align: right;\n",
       "    }\n",
       "</style>\n",
       "<table border=\"1\" class=\"dataframe\">\n",
       "  <thead>\n",
       "    <tr style=\"text-align: right;\">\n",
       "      <th></th>\n",
       "      <th>Month</th>\n",
       "      <th>CISO demand megawatthours</th>\n",
       "      <th>CAL demand megawatthours</th>\n",
       "      <th>Hours in Month</th>\n",
       "    </tr>\n",
       "  </thead>\n",
       "  <tbody>\n",
       "    <tr>\n",
       "      <td>0</td>\n",
       "      <td>12/1/2017 0:00</td>\n",
       "      <td>18379575</td>\n",
       "      <td>22420992</td>\n",
       "      <td>744</td>\n",
       "    </tr>\n",
       "    <tr>\n",
       "      <td>1</td>\n",
       "      <td>11/1/2017 0:00</td>\n",
       "      <td>17352790</td>\n",
       "      <td>21123360</td>\n",
       "      <td>720</td>\n",
       "    </tr>\n",
       "  </tbody>\n",
       "</table>\n",
       "</div>"
      ],
      "text/plain": [
       "            Month  CISO demand megawatthours  CAL demand megawatthours  \\\n",
       "0  12/1/2017 0:00                   18379575                  22420992   \n",
       "1  11/1/2017 0:00                   17352790                  21123360   \n",
       "\n",
       "   Hours in Month  \n",
       "0             744  \n",
       "1             720  "
      ]
     },
     "execution_count": 2,
     "metadata": {},
     "output_type": "execute_result"
    }
   ],
   "source": [
    "# Import monthly demand data\n",
    "#manual process to combine EIA datasets before this step as they would only allow export of 10 months max at a time\n",
    "#csv files had odd date format that I could not get python to recognize so reformatted in excel\n",
    "#could not get hours in a month to work via .days_in_month command so added hours per month directly based on webpage data\n",
    "demand_data = pd.read_csv('CISO demand data 2016 2017 w hours.csv')\n",
    "demand_data.head(2)"
   ]
  },
  {
   "cell_type": "code",
   "execution_count": 3,
   "metadata": {},
   "outputs": [
    {
     "data": {
      "text/html": [
       "<div>\n",
       "<style scoped>\n",
       "    .dataframe tbody tr th:only-of-type {\n",
       "        vertical-align: middle;\n",
       "    }\n",
       "\n",
       "    .dataframe tbody tr th {\n",
       "        vertical-align: top;\n",
       "    }\n",
       "\n",
       "    .dataframe thead th {\n",
       "        text-align: right;\n",
       "    }\n",
       "</style>\n",
       "<table border=\"1\" class=\"dataframe\">\n",
       "  <thead>\n",
       "    <tr style=\"text-align: right;\">\n",
       "      <th></th>\n",
       "      <th>Month</th>\n",
       "      <th>CISO demand megawatthours</th>\n",
       "      <th>CAL demand megawatthours</th>\n",
       "      <th>Hours in Month</th>\n",
       "      <th>CISO Mw</th>\n",
       "    </tr>\n",
       "  </thead>\n",
       "  <tbody>\n",
       "    <tr>\n",
       "      <td>0</td>\n",
       "      <td>12/1/2017 0:00</td>\n",
       "      <td>18379575</td>\n",
       "      <td>22420992</td>\n",
       "      <td>744</td>\n",
       "      <td>24703.729839</td>\n",
       "    </tr>\n",
       "    <tr>\n",
       "      <td>1</td>\n",
       "      <td>11/1/2017 0:00</td>\n",
       "      <td>17352790</td>\n",
       "      <td>21123360</td>\n",
       "      <td>720</td>\n",
       "      <td>24101.097222</td>\n",
       "    </tr>\n",
       "  </tbody>\n",
       "</table>\n",
       "</div>"
      ],
      "text/plain": [
       "            Month  CISO demand megawatthours  CAL demand megawatthours  \\\n",
       "0  12/1/2017 0:00                   18379575                  22420992   \n",
       "1  11/1/2017 0:00                   17352790                  21123360   \n",
       "\n",
       "   Hours in Month       CISO Mw  \n",
       "0             744  24703.729839  \n",
       "1             720  24101.097222  "
      ]
     },
     "execution_count": 3,
     "metadata": {},
     "output_type": "execute_result"
    }
   ],
   "source": [
    "# Change scale of megawatthours to megawatts for comparison to production\n",
    "demand_data['CISO Mw']=(demand_data['CISO demand megawatthours'] / demand_data['Hours in Month'])\n",
    "demand_data.head(2)"
   ]
  },
  {
   "cell_type": "code",
   "execution_count": 5,
   "metadata": {},
   "outputs": [
    {
     "data": {
      "text/html": [
       "<div>\n",
       "<style scoped>\n",
       "    .dataframe tbody tr th:only-of-type {\n",
       "        vertical-align: middle;\n",
       "    }\n",
       "\n",
       "    .dataframe tbody tr th {\n",
       "        vertical-align: top;\n",
       "    }\n",
       "\n",
       "    .dataframe thead th {\n",
       "        text-align: right;\n",
       "    }\n",
       "</style>\n",
       "<table border=\"1\" class=\"dataframe\">\n",
       "  <thead>\n",
       "    <tr style=\"text-align: right;\">\n",
       "      <th></th>\n",
       "      <th>Month</th>\n",
       "      <th>CISO demand megawatthours</th>\n",
       "      <th>CAL demand megawatthours</th>\n",
       "      <th>Hours in Month</th>\n",
       "      <th>CISO Mw</th>\n",
       "    </tr>\n",
       "  </thead>\n",
       "  <tbody>\n",
       "    <tr>\n",
       "      <td>23</td>\n",
       "      <td>2016-01-01</td>\n",
       "      <td>17934580</td>\n",
       "      <td>21946816</td>\n",
       "      <td>744</td>\n",
       "      <td>24105.618280</td>\n",
       "    </tr>\n",
       "    <tr>\n",
       "      <td>22</td>\n",
       "      <td>2016-02-01</td>\n",
       "      <td>16408995</td>\n",
       "      <td>20118078</td>\n",
       "      <td>696</td>\n",
       "      <td>23576.142241</td>\n",
       "    </tr>\n",
       "    <tr>\n",
       "      <td>21</td>\n",
       "      <td>2016-03-01</td>\n",
       "      <td>17893864</td>\n",
       "      <td>21827515</td>\n",
       "      <td>744</td>\n",
       "      <td>24050.892473</td>\n",
       "    </tr>\n",
       "    <tr>\n",
       "      <td>20</td>\n",
       "      <td>2016-04-01</td>\n",
       "      <td>17468662</td>\n",
       "      <td>21318886</td>\n",
       "      <td>720</td>\n",
       "      <td>24262.030556</td>\n",
       "    </tr>\n",
       "    <tr>\n",
       "      <td>19</td>\n",
       "      <td>2016-05-01</td>\n",
       "      <td>18616178</td>\n",
       "      <td>22757042</td>\n",
       "      <td>744</td>\n",
       "      <td>25021.744624</td>\n",
       "    </tr>\n",
       "  </tbody>\n",
       "</table>\n",
       "</div>"
      ],
      "text/plain": [
       "        Month  CISO demand megawatthours  CAL demand megawatthours  \\\n",
       "23 2016-01-01                   17934580                  21946816   \n",
       "22 2016-02-01                   16408995                  20118078   \n",
       "21 2016-03-01                   17893864                  21827515   \n",
       "20 2016-04-01                   17468662                  21318886   \n",
       "19 2016-05-01                   18616178                  22757042   \n",
       "\n",
       "    Hours in Month       CISO Mw  \n",
       "23             744  24105.618280  \n",
       "22             696  23576.142241  \n",
       "21             744  24050.892473  \n",
       "20             720  24262.030556  \n",
       "19             744  25021.744624  "
      ]
     },
     "execution_count": 5,
     "metadata": {},
     "output_type": "execute_result"
    }
   ],
   "source": [
    "# Convert dates into sortable format and sort\n",
    "import datetime\n",
    "pd.plotting.register_matplotlib_converters()\n",
    "demand_data['Month'] = pd.to_datetime(demand_data['Month'])\n",
    "demand_data.sort_values(by=['Month']).head()"
   ]
  },
  {
   "cell_type": "code",
   "execution_count": 27,
   "metadata": {},
   "outputs": [
    {
     "data": {
      "image/png": "[encoded data removed]",
      "text/plain": [
       "<Figure size 1440x360 with 1 Axes>"
      ]
     },
     "metadata": {
      "needs_background": "light"
     },
     "output_type": "display_data"
    }
   ],
   "source": [
    "# Plot bar chart\n",
    "fig,ax = plt.subplots()\n",
    "fig.set_figheight(5) #adjust if needed\n",
    "fig.set_figwidth(20) #adjust if needed\n",
    "y_axis = demand_data['CISO Mw'] \n",
    "x_axis = demand_data['Month'] \n",
    "plt.bar(x_axis,y_axis,width=20,align='center') #not sure why widths default were so narrow\n",
    "plt.ylim(0,max(y_axis)*1.2) #adjust if needed\n",
    "#plt.xlim(min(x_axis),max(x_axis)) ****set so don't see month that is not in set in axis\n",
    "plt.title(\"CAISO Demand Jan 2016 to Dec 2017\")\n",
    "plt.xlabel (\"\\nMonth\")\n",
    "plt.ylabel (\"Megawatthours  \",rotation='0',ha='right')\n",
    "plt.tight_layout()\n",
    "\n",
    "# Adjust for better data viz\n",
    "ax.spines['top'].set_visible(False)\n",
    "ax.spines['right'].set_visible(False)\n",
    "ax.spines['left'].set_visible(False)\n",
    "ax.spines['bottom'].set_alpha(.5)\n",
    "plt.grid(axis='y',alpha=.5)\n",
    "ax.set_axisbelow(True)\n",
    "import matplotlib.dates as mdates\n",
    "ax.xaxis.set_major_formatter(mdates.DateFormatter('%b-%Y')) # Change label frequnecy?\n",
    "\n",
    "#plt.savefid(path/name.format)     #if needed\n",
    "#plt.legend   #probably won't need but not sure what it will look like yet"
   ]
  },
  {
   "cell_type": "code",
   "execution_count": null,
   "metadata": {},
   "outputs": [],
   "source": [
    "#wont need this cell when merge\n",
    "full_data = pd.read_csv('all_breakdown.csv')\n",
    "full_data['SOLAR'] = full_data['SOLAR'].fillna(0)\n",
    "full_data['SOLAR PV'] = full_data['SOLAR PV'].fillna(0)\n",
    "full_data['SOLAR THERMAL'] = full_data['SOLAR THERMAL'].fillna(0)\n",
    "full_data['SOLAR TOTAL'] = full_data['SOLAR']+full_data['SOLAR PV']+full_data['SOLAR THERMAL']\n",
    "display(full_data.head(2))\n"
   ]
  },
  {
   "cell_type": "code",
   "execution_count": null,
   "metadata": {},
   "outputs": [],
   "source": [
    "# Add second layer of renewable production to chart\n",
    "\n",
    "#what unit for production?\n",
    "\n",
    "\n",
    "# divide the number of megawatt hours by the number of hours.\n",
    "\n",
    "# def autolabel(bars):\n",
    "#     count=0\n",
    "#     for bar in bars:\n",
    "#         height = bar.get_height()\n",
    "#         ax.text(bar. get_x() + bar.get_width()/2., .7*height,\n",
    "#                 ((drugs[count])+'\\n'+str(int(height*100))+'%'),color=\"w\",weight='bold',\n",
    "#                 ha='center', va='bottom')\n",
    "#         count +=1\n",
    "# autolabel(chart_num)"
   ]
  },
  {
   "cell_type": "code",
   "execution_count": null,
   "metadata": {},
   "outputs": [],
   "source": []
  }
 ],
 "metadata": {
  "kernelspec": {
   "display_name": "Python 3",
   "language": "python",
   "name": "python3"
  },
  "language_info": {
   "codemirror_mode": {
    "name": "ipython",
    "version": 3
   },
   "file_extension": ".py",
   "mimetype": "text/x-python",
   "name": "python",
   "nbconvert_exporter": "python",
   "pygments_lexer": "ipython3",
   "version": "3.7.3"
  }
 },
 "nbformat": 4,
 "nbformat_minor": 4
}
